{
 "cells": [
  {
   "cell_type": "code",
   "execution_count": 1,
   "id": "59d74dab-4dd9-4962-ad76-df3d891b5c12",
   "metadata": {
    "customType": "sql",
    "dataFrameVariableName": "oldest_business_continent",
    "executionCancelledAt": null,
    "executionTime": 1469,
    "lastExecutedAt": 1748010998978,
    "lastExecutedByKernel": "3ef311b6-134b-4887-8420-f6afb68696fb",
    "lastScheduledRunId": null,
    "lastSuccessfullyExecutedCode": "-- What is the oldest business on each continent?\n\nWITH all_business AS(\n\tSELECT business, year_founded, country_code\n\tFROM businesses\tb\n\tUNION ALL \n\tSELECT business, year_founded, country_code\t\n\tFROM new_businesses nb\n),\noldest_business_continent AS (\n\tSELECT \n\tab.business, \n    ab.year_founded, \n    ab.country_code,\n\tc.country,\n\tc.continent\n\tFROM all_business AS ab\n\tRIGHT JOIN countries AS c\n\tON ab.country_code = c.country_code\n),\nmin_year AS (\n\tSELECT obc.continent, MIN(year_founded) AS year_founded\n\tFROM oldest_business_continent obc\n\tGROUP BY continent\n)\t\nSELECT \n\tobc.continent AS continent,\n\tobc.country AS country,\n\tobc.business AS business,\n\tobc.year_founded AS year_founded\nFROM oldest_business_continent obc\nJOIN min_year m\nON obc.continent = m.continent AND obc.year_founded = m.year_founded;\n\n\n",
    "outputsMetadata": {
     "0": {
      "height": 550,
      "tableState": {
       "customFilter": {
        "const": {
         "type": "boolean",
         "valid": true,
         "value": true
        },
        "id": "c6a8094b-17cf-4b28-8fa8-58aa0ddaab33",
        "nodeType": "const"
       }
      },
      "type": "dataFrame"
     }
    },
    "sqlCellMode": "dataFrame",
    "sqlSource": {
     "integrationId": "89e17161-a224-4a8a-846b-0adc0fe7a4b1",
     "integrationType": "postgresql",
     "type": "integration"
    }
   },
   "outputs": [
    {
     "ename": "SyntaxError",
     "evalue": "invalid syntax (943882801.py, line 3)",
     "output_type": "error",
     "traceback": [
      "\u001b[1;36m  Cell \u001b[1;32mIn[1], line 3\u001b[1;36m\u001b[0m\n\u001b[1;33m    WITH all_business AS(\u001b[0m\n\u001b[1;37m         ^\u001b[0m\n\u001b[1;31mSyntaxError\u001b[0m\u001b[1;31m:\u001b[0m invalid syntax\n"
     ]
    }
   ],
   "source": [
    "-- What is the oldest business on each continent?\n",
    "\n",
    "WITH all_business AS(\n",
    "\tSELECT business, year_founded, country_code\n",
    "\tFROM businesses\tb\n",
    "\tUNION ALL \n",
    "\tSELECT business, year_founded, country_code\t\n",
    "\tFROM new_businesses nb\n",
    "),\n",
    "oldest_business_continent AS (\n",
    "\tSELECT \n",
    "\tab.business, \n",
    "    ab.year_founded, \n",
    "    ab.country_code,\n",
    "\tc.country,\n",
    "\tc.continent\n",
    "\tFROM all_business AS ab\n",
    "\tRIGHT JOIN countries AS c\n",
    "\tON ab.country_code = c.country_code\n",
    "),\n",
    "min_year AS (\n",
    "\tSELECT obc.continent, MIN(year_founded) AS year_founded\n",
    "\tFROM oldest_business_continent obc\n",
    "\tGROUP BY continent\n",
    ")\t\n",
    "SELECT \n",
    "\tobc.continent AS continent,\n",
    "\tobc.country AS country,\n",
    "\tobc.business AS business,\n",
    "\tobc.year_founded AS year_founded\n",
    "FROM oldest_business_continent obc\n",
    "JOIN min_year m\n",
    "ON obc.continent = m.continent AND obc.year_founded = m.year_founded;\n",
    "\n",
    "\n"
   ]
  },
  {
   "cell_type": "code",
   "execution_count": null,
   "id": "909e6dbc-9ba5-4ea1-a7be-9e2ab870a242",
   "metadata": {
    "customType": "sql",
    "dataFrameVariableName": "count_missing",
    "executionCancelledAt": null,
    "executionTime": 1109,
    "lastExecutedAt": 1748011000087,
    "lastExecutedByKernel": "3ef311b6-134b-4887-8420-f6afb68696fb",
    "lastScheduledRunId": null,
    "lastSuccessfullyExecutedCode": "\n-- How many countries per continent lack data on the oldest businesses?\n\nWITH all_business AS (\n    SELECT business, year_founded, country_code\n    FROM businesses\n),\nlocation AS (\n    SELECT c.country_code, c.continent\n    FROM countries c\n    LEFT JOIN all_business ab ON c.country_code = ab.country_code\n    WHERE ab.year_founded IS NULL\n)\nSELECT continent, COUNT(DISTINCT country_code) AS countries_without_businesses\nFROM location\nGROUP BY continent;\n\n-- Does including the `new_businesses` data change this?\n\nWITH all_business AS (\n    SELECT business, year_founded, country_code\n    FROM businesses\n    UNION ALL\n    SELECT business, year_founded, country_code\n    FROM new_businesses\n),\nlocation AS (\n    SELECT c.country_code, c.continent\n    FROM countries c\n    LEFT JOIN all_business ab ON c.country_code = ab.country_code\n    WHERE ab.year_founded IS NULL\n)\nSELECT continent, COUNT(DISTINCT country_code) AS countries_without_businesses\nFROM location\nGROUP BY continent;",
    "outputsMetadata": {
     "0": {
      "height": 550,
      "tableState": {
       "customFilter": {
        "const": {
         "type": "boolean",
         "valid": true,
         "value": true
        },
        "id": "7ef99290-86ab-40cd-a478-720dfa097f20",
        "nodeType": "const"
       }
      },
      "type": "dataFrame"
     }
    },
    "sqlCellMode": "dataFrame",
    "sqlSource": {
     "integrationId": "89e17161-a224-4a8a-846b-0adc0fe7a4b1",
     "integrationType": "postgresql",
     "type": "integration"
    }
   },
   "outputs": [],
   "source": [
    "\n",
    "-- How many countries per continent lack data on the oldest businesses?\n",
    "\n",
    "WITH all_business AS (\n",
    "    SELECT business, year_founded, country_code\n",
    "    FROM businesses\n",
    "),\n",
    "location AS (\n",
    "    SELECT c.country_code, c.continent\n",
    "    FROM countries c\n",
    "    LEFT JOIN all_business ab ON c.country_code = ab.country_code\n",
    "    WHERE ab.year_founded IS NULL\n",
    ")\n",
    "SELECT continent, COUNT(DISTINCT country_code) AS countries_without_businesses\n",
    "FROM location\n",
    "GROUP BY continent;\n",
    "\n",
    "-- Does including the `new_businesses` data change this?\n",
    "\n",
    "WITH all_business AS (\n",
    "    SELECT business, year_founded, country_code\n",
    "    FROM businesses\n",
    "    UNION ALL\n",
    "    SELECT business, year_founded, country_code\n",
    "    FROM new_businesses\n",
    "),\n",
    "location AS (\n",
    "    SELECT c.country_code, c.continent\n",
    "    FROM countries c\n",
    "    LEFT JOIN all_business ab ON c.country_code = ab.country_code\n",
    "    WHERE ab.year_founded IS NULL\n",
    ")\n",
    "SELECT continent, COUNT(DISTINCT country_code) AS countries_without_businesses\n",
    "FROM location\n",
    "GROUP BY continent;"
   ]
  },
  {
   "cell_type": "code",
   "execution_count": null,
   "id": "9534b550-a1e1-4062-ab39-211a7804f219",
   "metadata": {
    "customType": "sql",
    "dataFrameVariableName": "oldest_by_continent_category",
    "executionCancelledAt": null,
    "executionTime": 1091,
    "lastExecutedAt": 1748011001178,
    "lastExecutedByKernel": "3ef311b6-134b-4887-8420-f6afb68696fb",
    "lastScheduledRunId": null,
    "lastSuccessfullyExecutedCode": "\n\nWITH all_business AS (\n\tSELECT category_code, year_founded, country_code\n\tFROM businesses\n\tUNION ALL \n\tSELECT category_code, year_founded, country_code\t\n\tFROM new_businesses\n),\nlocation AS (\n\tSELECT DISTINCT continent, category_code, year_founded\n\tFROM countries c\n\tJOIN all_business ab\n\tON ab.country_code = c.country_code\n),\noldest_by_continent_category AS (\n\tSELECT continent, ct.category, MIN(year_founded) AS year_founded\n\tFROM location l\n\tJOIN categories ct \n\tON l.category_code = ct.category_code\n\tGROUP BY continent, ct.category\n)\nSELECT DISTINCT continent, category, year_founded\nFROM oldest_by_continent_category obcc;\n\n",
    "outputsMetadata": {
     "0": {
      "height": 550,
      "tableState": {
       "sort": {
        "sortModel": [
         {
          "colId": "index",
          "sort": "desc"
         }
        ]
       }
      },
      "type": "dataFrame"
     }
    },
    "sqlCellMode": "dataFrame",
    "sqlSource": {
     "integrationId": "89e17161-a224-4a8a-846b-0adc0fe7a4b1",
     "integrationType": "postgresql",
     "type": "integration"
    }
   },
   "outputs": [],
   "source": [
    "\n",
    "\n",
    "WITH all_business AS (\n",
    "\tSELECT category_code, year_founded, country_code\n",
    "\tFROM businesses\n",
    "\tUNION ALL \n",
    "\tSELECT category_code, year_founded, country_code\t\n",
    "\tFROM new_businesses\n",
    "),\n",
    "location AS (\n",
    "\tSELECT DISTINCT continent, category_code, year_founded\n",
    "\tFROM countries c\n",
    "\tJOIN all_business ab\n",
    "\tON ab.country_code = c.country_code\n",
    "),\n",
    "oldest_by_continent_category AS (\n",
    "\tSELECT continent, ct.category, MIN(year_founded) AS year_founded\n",
    "\tFROM location l\n",
    "\tJOIN categories ct \n",
    "\tON l.category_code = ct.category_code\n",
    "\tGROUP BY continent, ct.category\n",
    ")\n",
    "SELECT DISTINCT continent, category, year_founded\n",
    "FROM oldest_by_continent_category obcc;\n",
    "\n"
   ]
  }
 ],
 "metadata": {
  "editor": "DataLab",
  "kernelspec": {
   "display_name": "Python [conda env:base] *",
   "language": "python",
   "name": "conda-base-py"
  },
  "language_info": {
   "codemirror_mode": {
    "name": "ipython",
    "version": 3
   },
   "file_extension": ".py",
   "mimetype": "text/x-python",
   "name": "python",
   "nbconvert_exporter": "python",
   "pygments_lexer": "ipython3",
   "version": "3.12.7"
  }
 },
 "nbformat": 4,
 "nbformat_minor": 5
}
